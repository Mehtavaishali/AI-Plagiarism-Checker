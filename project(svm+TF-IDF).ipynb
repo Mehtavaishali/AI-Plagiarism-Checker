{
  "nbformat": 4,
  "nbformat_minor": 0,
  "metadata": {
    "colab": {
      "provenance": [],
      "authorship_tag": "ABX9TyOc/cAk2HKimEa54Nb98oIj",
      "include_colab_link": true
    },
    "kernelspec": {
      "name": "python3",
      "display_name": "Python 3"
    },
    "language_info": {
      "name": "python"
    }
  },
  "cells": [
    {
      "cell_type": "markdown",
      "metadata": {
        "id": "view-in-github",
        "colab_type": "text"
      },
      "source": [
        "<a href=\"https://colab.research.google.com/github/Mehtavaishali/AI-Plagiarism-Checker/blob/main/project(svm%2BTF-IDF).ipynb\" target=\"_parent\"><img src=\"https://colab.research.google.com/assets/colab-badge.svg\" alt=\"Open In Colab\"/></a>"
      ]
    },
    {
      "cell_type": "code",
      "execution_count": 1,
      "metadata": {
        "id": "pS8rwYfIoV0E"
      },
      "outputs": [],
      "source": [
        "import pandas as pd\n",
        "import numpy as np\n",
        "import re\n",
        "import string\n",
        "from sklearn.feature_extraction.text import TfidfVectorizer\n",
        "from sklearn.model_selection import train_test_split\n",
        "from sklearn.svm import SVC\n",
        "from sklearn.metrics import accuracy_score, classification_report"
      ]
    },
    {
      "cell_type": "markdown",
      "source": [
        "Data Cleaning"
      ],
      "metadata": {
        "id": "f0SzKeksolBt"
      }
    },
    {
      "cell_type": "code",
      "source": [
        "def clean_text(text):\n",
        "    text = str(text).lower()\n",
        "    text = re.sub(r\"http\\S+|www\\S+\", \"\", text)  # Remove URLs\n",
        "    text = re.sub(r\"@\\w+|\\d+\", \"\", text)        # Remove mentions and digits\n",
        "    text = text.translate(str.maketrans(\"\", \"\", string.punctuation))  # Remove punctuation\n",
        "    text = re.sub(r\"\\s+\", \" \", text).strip()    # Normalize spaces\n",
        "    return text"
      ],
      "metadata": {
        "id": "TO95G2fZoknV"
      },
      "execution_count": 2,
      "outputs": []
    },
    {
      "cell_type": "markdown",
      "source": [
        "Load and preprocess data"
      ],
      "metadata": {
        "id": "kPlFY_rmorDR"
      }
    },
    {
      "cell_type": "code",
      "source": [
        "def load_and_prepare_data(filepath, sample_size=10000):\n",
        "    df = pd.read_csv(filepath, sep='\\t', header=None, names=['sentence1', 'sentence2', 'label'])\n",
        "    df.dropna(inplace=True)\n",
        "    df = df[df['label'].isin([0, 1])]\n",
        "    df['label'] = df['label'].astype(int)\n",
        "    df = df.sample(min(sample_size, len(df)), random_state=42).reset_index(drop=True)\n",
        "    df['sentence1'] = df['sentence1'].apply(clean_text)\n",
        "    df['sentence2'] = df['sentence2'].apply(clean_text)\n",
        "    return df"
      ],
      "metadata": {
        "id": "GMcgGg0YohdR"
      },
      "execution_count": 3,
      "outputs": []
    },
    {
      "cell_type": "markdown",
      "source": [
        "Feature extraction using absolute difference of TF-IDF vectors"
      ],
      "metadata": {
        "id": "l2Rp7rUGoxFw"
      }
    },
    {
      "cell_type": "code",
      "source": [
        "def extract_features(df):\n",
        "    all_text = df['sentence1'].tolist() + df['sentence2'].tolist()\n",
        "    vectorizer = TfidfVectorizer(\n",
        "        max_features=5000,\n",
        "        ngram_range=(1, 2),\n",
        "        stop_words='english',\n",
        "        sublinear_tf=True\n",
        "    )\n",
        "    vectorizer.fit(all_text)\n",
        "    vec1 = vectorizer.transform(df['sentence1'])\n",
        "    vec2 = vectorizer.transform(df['sentence2'])\n",
        "    feature_matrix = np.abs(vec1 - vec2)\n",
        "    return feature_matrix, df['label'].values, vectorizer"
      ],
      "metadata": {
        "id": "0g-nQb0QouU0"
      },
      "execution_count": 4,
      "outputs": []
    },
    {
      "cell_type": "markdown",
      "source": [
        "Train and evaluate SVM model"
      ],
      "metadata": {
        "id": "kwbk_19Oo488"
      }
    },
    {
      "cell_type": "code",
      "source": [
        "def train_and_evaluate(X, y):\n",
        "    X_train, X_test, y_train, y_test = train_test_split(X, y, test_size=0.2, random_state=42)\n",
        "    model = SVC(kernel='linear', probability=True, random_state=42)\n",
        "    model.fit(X_train, y_train)\n",
        "\n",
        "    y_train_pred = model.predict(X_train)\n",
        "    y_test_pred = model.predict(X_test)\n",
        "\n",
        "    print(f\" Training Accuracy: {accuracy_score(y_train, y_train_pred) * 100:.2f}%\")\n",
        "    print(f\" Testing Accuracy : {accuracy_score(y_test, y_test_pred) * 100:.2f}%\")\n",
        "    print(\"\\n Classification Report:\\n\", classification_report(y_test, y_test_pred))\n",
        "\n",
        "    return model"
      ],
      "metadata": {
        "id": "PBraBopEo2Wj"
      },
      "execution_count": 5,
      "outputs": []
    },
    {
      "cell_type": "markdown",
      "source": [
        "Predict on new sentence pairs"
      ],
      "metadata": {
        "id": "yBLsHiYrpCM5"
      }
    },
    {
      "cell_type": "code",
      "source": [
        "def predict_pair(model, vectorizer, sentence1, sentence2):\n",
        "    s1 = clean_text(sentence1)\n",
        "    s2 = clean_text(sentence2)\n",
        "    v1 = vectorizer.transform([s1])\n",
        "    v2 = vectorizer.transform([s2])\n",
        "    features = np.abs(v1 - v2)\n",
        "    prediction = model.predict(features)[0]\n",
        "    prob = model.predict_proba(features)[0][prediction]\n",
        "    label = \"Plagiarised\" if prediction == 1 else \"Not Plagiarised\"\n",
        "    print(f\"\\n Prediction: {label} (Confidence: {prob * 100:.2f}%)\")"
      ],
      "metadata": {
        "id": "SaeokelVo_Qj"
      },
      "execution_count": 6,
      "outputs": []
    },
    {
      "cell_type": "markdown",
      "source": [
        "Example Usage"
      ],
      "metadata": {
        "id": "VvNY-Bv1pQ73"
      }
    },
    {
      "cell_type": "code",
      "source": [
        "if __name__ == \"__main__\":\n",
        "    # Load and process the dataset\n",
        "    df = load_and_prepare_data('train_snli.txt', sample_size=10000)\n",
        "\n",
        "    # Extract features\n",
        "    X, y, tfidf_vectorizer = extract_features(df)\n",
        "\n",
        "    # Train and evaluate the model\n",
        "    trained_model = train_and_evaluate(X, y)\n",
        "\n",
        "    # Test with new sentence pair\n",
        "    test_sentence1 = \"The student wrote the assignment in her own words.\"\n",
        "    test_sentence2 = \"The assignment was completed in a unique way by the student.\"\n",
        "    predict_pair(trained_model, tfidf_vectorizer, test_sentence1, test_sentence2)"
      ],
      "metadata": {
        "colab": {
          "base_uri": "https://localhost:8080/"
        },
        "id": "s_rUr1H0pLrW",
        "outputId": "e228e82b-fe28-4090-dca5-984258f67a16"
      },
      "execution_count": 7,
      "outputs": [
        {
          "output_type": "stream",
          "name": "stdout",
          "text": [
            " Training Accuracy: 86.20%\n",
            " Testing Accuracy : 68.35%\n",
            "\n",
            " Classification Report:\n",
            "               precision    recall  f1-score   support\n",
            "\n",
            "           0       0.70      0.61      0.65       979\n",
            "           1       0.67      0.75      0.71      1021\n",
            "\n",
            "    accuracy                           0.68      2000\n",
            "   macro avg       0.69      0.68      0.68      2000\n",
            "weighted avg       0.69      0.68      0.68      2000\n",
            "\n",
            "\n",
            " Prediction: Plagiarised (Confidence: 67.49%)\n"
          ]
        }
      ]
    },
    {
      "cell_type": "code",
      "source": [],
      "metadata": {
        "id": "qGF9eLfXpTY7"
      },
      "execution_count": null,
      "outputs": []
    }
  ]
}