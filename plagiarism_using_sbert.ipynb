{
  "nbformat": 4,
  "nbformat_minor": 0,
  "metadata": {
    "colab": {
      "provenance": [],
      "authorship_tag": "ABX9TyOfgAjMRuIBpgz9z8kzq0CL",
      "include_colab_link": true
    },
    "kernelspec": {
      "name": "python3",
      "display_name": "Python 3"
    },
    "language_info": {
      "name": "python"
    },
    "widgets": {
      "application/vnd.jupyter.widget-state+json": {
        "b8283d5745de4866beba1311a11cca05": {
          "model_module": "@jupyter-widgets/controls",
          "model_name": "HBoxModel",
          "model_module_version": "1.5.0",
          "state": {
            "_dom_classes": [],
            "_model_module": "@jupyter-widgets/controls",
            "_model_module_version": "1.5.0",
            "_model_name": "HBoxModel",
            "_view_count": null,
            "_view_module": "@jupyter-widgets/controls",
            "_view_module_version": "1.5.0",
            "_view_name": "HBoxView",
            "box_style": "",
            "children": [
              "IPY_MODEL_5724ad370e684c6b8737153be1a80e75",
              "IPY_MODEL_59c8cdb9432c4b7981cb937e439a2f74",
              "IPY_MODEL_dec8d827154d44e2bbb434d73d99b74e"
            ],
            "layout": "IPY_MODEL_5d6d8fb9f5084005a05a2f4798c37fd5"
          }
        },
        "5724ad370e684c6b8737153be1a80e75": {
          "model_module": "@jupyter-widgets/controls",
          "model_name": "HTMLModel",
          "model_module_version": "1.5.0",
          "state": {
            "_dom_classes": [],
            "_model_module": "@jupyter-widgets/controls",
            "_model_module_version": "1.5.0",
            "_model_name": "HTMLModel",
            "_view_count": null,
            "_view_module": "@jupyter-widgets/controls",
            "_view_module_version": "1.5.0",
            "_view_name": "HTMLView",
            "description": "",
            "description_tooltip": null,
            "layout": "IPY_MODEL_877c12e6963a433ea854f00ade578da8",
            "placeholder": "​",
            "style": "IPY_MODEL_a5714d171e6042e68d0f2a77f0c9802d",
            "value": "Batches:  42%"
          }
        },
        "59c8cdb9432c4b7981cb937e439a2f74": {
          "model_module": "@jupyter-widgets/controls",
          "model_name": "FloatProgressModel",
          "model_module_version": "1.5.0",
          "state": {
            "_dom_classes": [],
            "_model_module": "@jupyter-widgets/controls",
            "_model_module_version": "1.5.0",
            "_model_name": "FloatProgressModel",
            "_view_count": null,
            "_view_module": "@jupyter-widgets/controls",
            "_view_module_version": "1.5.0",
            "_view_name": "ProgressView",
            "bar_style": "",
            "description": "",
            "description_tooltip": null,
            "layout": "IPY_MODEL_3e39697736a14c0293fa426245918321",
            "max": 11462,
            "min": 0,
            "orientation": "horizontal",
            "style": "IPY_MODEL_e931f1f079bb4de79c346a8832e60811",
            "value": 4856
          }
        },
        "dec8d827154d44e2bbb434d73d99b74e": {
          "model_module": "@jupyter-widgets/controls",
          "model_name": "HTMLModel",
          "model_module_version": "1.5.0",
          "state": {
            "_dom_classes": [],
            "_model_module": "@jupyter-widgets/controls",
            "_model_module_version": "1.5.0",
            "_model_name": "HTMLModel",
            "_view_count": null,
            "_view_module": "@jupyter-widgets/controls",
            "_view_module_version": "1.5.0",
            "_view_name": "HTMLView",
            "description": "",
            "description_tooltip": null,
            "layout": "IPY_MODEL_fe2f8eb0947c4a888721012fda51d1bf",
            "placeholder": "​",
            "style": "IPY_MODEL_7128ceb0151f43ad95d6507b2afe85e0",
            "value": " 4856/11462 [25:28&lt;24:40,  4.46it/s]"
          }
        },
        "5d6d8fb9f5084005a05a2f4798c37fd5": {
          "model_module": "@jupyter-widgets/base",
          "model_name": "LayoutModel",
          "model_module_version": "1.2.0",
          "state": {
            "_model_module": "@jupyter-widgets/base",
            "_model_module_version": "1.2.0",
            "_model_name": "LayoutModel",
            "_view_count": null,
            "_view_module": "@jupyter-widgets/base",
            "_view_module_version": "1.2.0",
            "_view_name": "LayoutView",
            "align_content": null,
            "align_items": null,
            "align_self": null,
            "border": null,
            "bottom": null,
            "display": null,
            "flex": null,
            "flex_flow": null,
            "grid_area": null,
            "grid_auto_columns": null,
            "grid_auto_flow": null,
            "grid_auto_rows": null,
            "grid_column": null,
            "grid_gap": null,
            "grid_row": null,
            "grid_template_areas": null,
            "grid_template_columns": null,
            "grid_template_rows": null,
            "height": null,
            "justify_content": null,
            "justify_items": null,
            "left": null,
            "margin": null,
            "max_height": null,
            "max_width": null,
            "min_height": null,
            "min_width": null,
            "object_fit": null,
            "object_position": null,
            "order": null,
            "overflow": null,
            "overflow_x": null,
            "overflow_y": null,
            "padding": null,
            "right": null,
            "top": null,
            "visibility": null,
            "width": null
          }
        },
        "877c12e6963a433ea854f00ade578da8": {
          "model_module": "@jupyter-widgets/base",
          "model_name": "LayoutModel",
          "model_module_version": "1.2.0",
          "state": {
            "_model_module": "@jupyter-widgets/base",
            "_model_module_version": "1.2.0",
            "_model_name": "LayoutModel",
            "_view_count": null,
            "_view_module": "@jupyter-widgets/base",
            "_view_module_version": "1.2.0",
            "_view_name": "LayoutView",
            "align_content": null,
            "align_items": null,
            "align_self": null,
            "border": null,
            "bottom": null,
            "display": null,
            "flex": null,
            "flex_flow": null,
            "grid_area": null,
            "grid_auto_columns": null,
            "grid_auto_flow": null,
            "grid_auto_rows": null,
            "grid_column": null,
            "grid_gap": null,
            "grid_row": null,
            "grid_template_areas": null,
            "grid_template_columns": null,
            "grid_template_rows": null,
            "height": null,
            "justify_content": null,
            "justify_items": null,
            "left": null,
            "margin": null,
            "max_height": null,
            "max_width": null,
            "min_height": null,
            "min_width": null,
            "object_fit": null,
            "object_position": null,
            "order": null,
            "overflow": null,
            "overflow_x": null,
            "overflow_y": null,
            "padding": null,
            "right": null,
            "top": null,
            "visibility": null,
            "width": null
          }
        },
        "a5714d171e6042e68d0f2a77f0c9802d": {
          "model_module": "@jupyter-widgets/controls",
          "model_name": "DescriptionStyleModel",
          "model_module_version": "1.5.0",
          "state": {
            "_model_module": "@jupyter-widgets/controls",
            "_model_module_version": "1.5.0",
            "_model_name": "DescriptionStyleModel",
            "_view_count": null,
            "_view_module": "@jupyter-widgets/base",
            "_view_module_version": "1.2.0",
            "_view_name": "StyleView",
            "description_width": ""
          }
        },
        "3e39697736a14c0293fa426245918321": {
          "model_module": "@jupyter-widgets/base",
          "model_name": "LayoutModel",
          "model_module_version": "1.2.0",
          "state": {
            "_model_module": "@jupyter-widgets/base",
            "_model_module_version": "1.2.0",
            "_model_name": "LayoutModel",
            "_view_count": null,
            "_view_module": "@jupyter-widgets/base",
            "_view_module_version": "1.2.0",
            "_view_name": "LayoutView",
            "align_content": null,
            "align_items": null,
            "align_self": null,
            "border": null,
            "bottom": null,
            "display": null,
            "flex": null,
            "flex_flow": null,
            "grid_area": null,
            "grid_auto_columns": null,
            "grid_auto_flow": null,
            "grid_auto_rows": null,
            "grid_column": null,
            "grid_gap": null,
            "grid_row": null,
            "grid_template_areas": null,
            "grid_template_columns": null,
            "grid_template_rows": null,
            "height": null,
            "justify_content": null,
            "justify_items": null,
            "left": null,
            "margin": null,
            "max_height": null,
            "max_width": null,
            "min_height": null,
            "min_width": null,
            "object_fit": null,
            "object_position": null,
            "order": null,
            "overflow": null,
            "overflow_x": null,
            "overflow_y": null,
            "padding": null,
            "right": null,
            "top": null,
            "visibility": null,
            "width": null
          }
        },
        "e931f1f079bb4de79c346a8832e60811": {
          "model_module": "@jupyter-widgets/controls",
          "model_name": "ProgressStyleModel",
          "model_module_version": "1.5.0",
          "state": {
            "_model_module": "@jupyter-widgets/controls",
            "_model_module_version": "1.5.0",
            "_model_name": "ProgressStyleModel",
            "_view_count": null,
            "_view_module": "@jupyter-widgets/base",
            "_view_module_version": "1.2.0",
            "_view_name": "StyleView",
            "bar_color": null,
            "description_width": ""
          }
        },
        "fe2f8eb0947c4a888721012fda51d1bf": {
          "model_module": "@jupyter-widgets/base",
          "model_name": "LayoutModel",
          "model_module_version": "1.2.0",
          "state": {
            "_model_module": "@jupyter-widgets/base",
            "_model_module_version": "1.2.0",
            "_model_name": "LayoutModel",
            "_view_count": null,
            "_view_module": "@jupyter-widgets/base",
            "_view_module_version": "1.2.0",
            "_view_name": "LayoutView",
            "align_content": null,
            "align_items": null,
            "align_self": null,
            "border": null,
            "bottom": null,
            "display": null,
            "flex": null,
            "flex_flow": null,
            "grid_area": null,
            "grid_auto_columns": null,
            "grid_auto_flow": null,
            "grid_auto_rows": null,
            "grid_column": null,
            "grid_gap": null,
            "grid_row": null,
            "grid_template_areas": null,
            "grid_template_columns": null,
            "grid_template_rows": null,
            "height": null,
            "justify_content": null,
            "justify_items": null,
            "left": null,
            "margin": null,
            "max_height": null,
            "max_width": null,
            "min_height": null,
            "min_width": null,
            "object_fit": null,
            "object_position": null,
            "order": null,
            "overflow": null,
            "overflow_x": null,
            "overflow_y": null,
            "padding": null,
            "right": null,
            "top": null,
            "visibility": null,
            "width": null
          }
        },
        "7128ceb0151f43ad95d6507b2afe85e0": {
          "model_module": "@jupyter-widgets/controls",
          "model_name": "DescriptionStyleModel",
          "model_module_version": "1.5.0",
          "state": {
            "_model_module": "@jupyter-widgets/controls",
            "_model_module_version": "1.5.0",
            "_model_name": "DescriptionStyleModel",
            "_view_count": null,
            "_view_module": "@jupyter-widgets/base",
            "_view_module_version": "1.2.0",
            "_view_name": "StyleView",
            "description_width": ""
          }
        }
      }
    }
  },
  "cells": [
    {
      "cell_type": "markdown",
      "metadata": {
        "id": "view-in-github",
        "colab_type": "text"
      },
      "source": [
        "<a href=\"https://colab.research.google.com/github/Mehtavaishali/AI-Plagiarism-Checker/blob/main/plagiarism_using_sbert.ipynb\" target=\"_parent\"><img src=\"https://colab.research.google.com/assets/colab-badge.svg\" alt=\"Open In Colab\"/></a>"
      ]
    },
    {
      "cell_type": "markdown",
      "source": [
        "DATA CLEANING AND PREPROCESSING"
      ],
      "metadata": {
        "id": "mIcP2-Tn4-q4"
      }
    },
    {
      "cell_type": "code",
      "source": [
        "import pandas as pd\n",
        "import re\n",
        "\n",
        "#  Load the Dataset\n",
        "def load_dataset(file_path):\n",
        "    data = []\n",
        "    with open(file_path, 'r', encoding='utf-8') as file:\n",
        "        for line in file:\n",
        "            parts = line.strip().split('\\t')\n",
        "            if len(parts) == 3:\n",
        "                data.append(parts)\n",
        "    return pd.DataFrame(data, columns=['premise', 'hypothesis', 'label'])"
      ],
      "metadata": {
        "id": "R_457OFw5Crz"
      },
      "execution_count": 1,
      "outputs": []
    },
    {
      "cell_type": "markdown",
      "source": [
        "Clean individual text"
      ],
      "metadata": {
        "id": "Hp6EJn5g5UZD"
      }
    },
    {
      "cell_type": "code",
      "source": [
        "def clean_text(text):\n",
        "    \"\"\"\n",
        "    Lowercases, removes punctuation, and strips extra spaces from text.\n",
        "    \"\"\"\n",
        "    text = text.lower()\n",
        "    text = re.sub(r'[^a-z0-9\\s]', '', text)\n",
        "    text = re.sub(r'\\s+', ' ', text).strip()\n",
        "    return text"
      ],
      "metadata": {
        "id": "NSj4r7TF5TXz"
      },
      "execution_count": 2,
      "outputs": []
    },
    {
      "cell_type": "markdown",
      "source": [
        "Preprocess entire DataFrame"
      ],
      "metadata": {
        "id": "4FF4S3EE5c45"
      }
    },
    {
      "cell_type": "code",
      "source": [
        "def preprocess_dataset(df):\n",
        "    \"\"\"\n",
        "    Cleans premise and hypothesis columns, converts label to int, and removes duplicates.\n",
        "    \"\"\"\n",
        "    df = df.copy()\n",
        "    df['premise'] = df['premise'].apply(clean_text)\n",
        "    df['hypothesis'] = df['hypothesis'].apply(clean_text)\n",
        "    df['label'] = df['label'].astype(int)\n",
        "    df.drop_duplicates(inplace=True)\n",
        "    return df"
      ],
      "metadata": {
        "id": "uIzfwV_v5hKd"
      },
      "execution_count": 3,
      "outputs": []
    },
    {
      "cell_type": "markdown",
      "source": [
        "Save cleaned dataset"
      ],
      "metadata": {
        "id": "JZ7Sf5z35pzr"
      }
    },
    {
      "cell_type": "code",
      "source": [
        "def save_cleaned_dataset(df, output_path):\n",
        "    df.to_csv(output_path, index=False)\n",
        "    print(f\"Cleaned dataset saved to: {output_path}\")"
      ],
      "metadata": {
        "id": "abLTa3Fc5mI0"
      },
      "execution_count": 4,
      "outputs": []
    },
    {
      "cell_type": "code",
      "source": [
        "file_path = 'train_snli.txt'\n",
        "output_path = 'cleaned_plagiarism_dataset.csv'\n",
        "\n",
        "df_raw = load_dataset(file_path)\n",
        "df_cleaned = preprocess_dataset(df_raw)\n",
        "save_cleaned_dataset(df_cleaned, output_path)"
      ],
      "metadata": {
        "colab": {
          "base_uri": "https://localhost:8080/"
        },
        "id": "LUMfUtgu5uMd",
        "outputId": "bf0842a5-601b-424e-c943-94a627ccd0f2"
      },
      "execution_count": 5,
      "outputs": [
        {
          "output_type": "stream",
          "name": "stdout",
          "text": [
            "Cleaned dataset saved to: cleaned_plagiarism_dataset.csv\n"
          ]
        }
      ]
    },
    {
      "cell_type": "markdown",
      "source": [
        "Import the libraries and open the cleaned data\n"
      ],
      "metadata": {
        "id": "VOCsMIB97r8m"
      }
    },
    {
      "cell_type": "code",
      "source": [
        "import pandas as pd\n",
        "import numpy as np\n",
        "from sentence_transformers import SentenceTransformer\n",
        "from sklearn.model_selection import train_test_split\n",
        "from sklearn.linear_model import LogisticRegression\n",
        "from sklearn.preprocessing import StandardScaler\n",
        "from sklearn.metrics import accuracy_score, classification_report\n",
        "df = pd.read_csv(\"cleaned_plagiarism_dataset.csv\")\n",
        "df.dropna(inplace=True)\n"
      ],
      "metadata": {
        "id": "2udwf_fS54Wj"
      },
      "execution_count": 6,
      "outputs": []
    },
    {
      "cell_type": "markdown",
      "source": [
        "Extract text and labels"
      ],
      "metadata": {
        "id": "jluwApsO767q"
      }
    },
    {
      "cell_type": "code",
      "source": [
        "premises = df[\"premise\"].tolist()\n",
        "hypotheses = df[\"hypothesis\"].tolist()\n",
        "labels = df[\"label\"].tolist()\n"
      ],
      "metadata": {
        "id": "eTQLljtZ72Iw"
      },
      "execution_count": 7,
      "outputs": []
    },
    {
      "cell_type": "markdown",
      "source": [
        "Load SBERT model"
      ],
      "metadata": {
        "id": "tNWIzRGF8Csk"
      }
    },
    {
      "cell_type": "code",
      "source": [
        "sbert_model = SentenceTransformer(\"paraphrase-MiniLM-L6-v2\")\n"
      ],
      "metadata": {
        "colab": {
          "base_uri": "https://localhost:8080/"
        },
        "id": "CmQTCW2z7_o_",
        "outputId": "ea40ce4b-95c1-4aa5-f0e6-c789ad00a918"
      },
      "execution_count": 8,
      "outputs": [
        {
          "output_type": "stream",
          "name": "stderr",
          "text": [
            "/usr/local/lib/python3.11/dist-packages/huggingface_hub/utils/_auth.py:94: UserWarning: \n",
            "The secret `HF_TOKEN` does not exist in your Colab secrets.\n",
            "To authenticate with the Hugging Face Hub, create a token in your settings tab (https://huggingface.co/settings/tokens), set it as secret in your Google Colab and restart your session.\n",
            "You will be able to reuse this secret in all of your notebooks.\n",
            "Please note that authentication is recommended but still optional to access public models or datasets.\n",
            "  warnings.warn(\n"
          ]
        }
      ]
    },
    {
      "cell_type": "markdown",
      "source": [
        "Encoding sentences"
      ],
      "metadata": {
        "id": "ONUZ6QDm8OFi"
      }
    },
    {
      "cell_type": "code",
      "source": [
        "premise_embeddings = sbert_model.encode(premises, convert_to_tensor=False, show_progress_bar=True)\n",
        "hypothesis_embeddings = sbert_model.encode(hypotheses, convert_to_tensor=False, show_progress_bar=True)\n"
      ],
      "metadata": {
        "colab": {
          "base_uri": "https://localhost:8080/",
          "height": 49,
          "referenced_widgets": [
            "b8283d5745de4866beba1311a11cca05",
            "5724ad370e684c6b8737153be1a80e75",
            "59c8cdb9432c4b7981cb937e439a2f74",
            "dec8d827154d44e2bbb434d73d99b74e",
            "5d6d8fb9f5084005a05a2f4798c37fd5",
            "877c12e6963a433ea854f00ade578da8",
            "a5714d171e6042e68d0f2a77f0c9802d",
            "3e39697736a14c0293fa426245918321",
            "e931f1f079bb4de79c346a8832e60811",
            "fe2f8eb0947c4a888721012fda51d1bf",
            "7128ceb0151f43ad95d6507b2afe85e0"
          ]
        },
        "id": "k3noKtGq8Hmn",
        "outputId": "239dd373-87fe-4625-88b6-f907cdff55e1"
      },
      "execution_count": null,
      "outputs": [
        {
          "output_type": "display_data",
          "data": {
            "text/plain": [
              "Batches:   0%|          | 0/11462 [00:00<?, ?it/s]"
            ],
            "application/vnd.jupyter.widget-view+json": {
              "version_major": 2,
              "version_minor": 0,
              "model_id": "b8283d5745de4866beba1311a11cca05"
            }
          },
          "metadata": {}
        }
      ]
    },
    {
      "cell_type": "markdown",
      "source": [
        "Create enhanced features: concat + abs diff + product"
      ],
      "metadata": {
        "id": "5FR30BS88ZWq"
      }
    },
    {
      "cell_type": "code",
      "source": [
        "print(\"Building enhanced feature vectors...\")\n",
        "features = [\n",
        "    np.concatenate([p, h, np.abs(p - h), p * h])\n",
        "    for p, h in zip(premise_embeddings, hypothesis_embeddings)\n",
        "]\n"
      ],
      "metadata": {
        "id": "GcLVWTD68U06"
      },
      "execution_count": null,
      "outputs": []
    },
    {
      "cell_type": "markdown",
      "source": [
        "Split dataset"
      ],
      "metadata": {
        "id": "zbLADv3q8gog"
      }
    },
    {
      "cell_type": "code",
      "source": [
        "X_train, X_test, y_train, y_test = train_test_split(features, labels, test_size=0.2, random_state=42)\n"
      ],
      "metadata": {
        "id": "dxkc8gY58jwD"
      },
      "execution_count": null,
      "outputs": []
    },
    {
      "cell_type": "markdown",
      "source": [
        "Normalize features"
      ],
      "metadata": {
        "id": "FMW5_Crb8m_v"
      }
    },
    {
      "cell_type": "code",
      "source": [
        "scaler = StandardScaler()\n",
        "X_train_scaled = scaler.fit_transform(X_train)\n",
        "X_test_scaled = scaler.transform(X_test)"
      ],
      "metadata": {
        "id": "z3D5vXjp8qW8"
      },
      "execution_count": null,
      "outputs": []
    },
    {
      "cell_type": "markdown",
      "source": [
        " Train Logistic Regression"
      ],
      "metadata": {
        "id": "1vp-b16L-EqY"
      }
    },
    {
      "cell_type": "code",
      "source": [
        "classifier = LogisticRegression(max_iter=2000, solver='liblinear', C=1.0)\n",
        "classifier.fit(X_train, y_train)\n"
      ],
      "metadata": {
        "id": "nXqVYRnq-Qvk"
      },
      "execution_count": null,
      "outputs": []
    },
    {
      "cell_type": "markdown",
      "source": [
        "Predict and evaluate"
      ],
      "metadata": {
        "id": "swIwNF3D-UXR"
      }
    },
    {
      "cell_type": "code",
      "source": [
        "# Predict on train set\n",
        "y_train_pred = classifier.predict(X_train)\n",
        "train_accuracy = accuracy_score(y_train, y_train_pred)\n",
        "\n",
        "# Predict on test set\n",
        "y_test_pred = classifier.predict(X_test)\n",
        "test_accuracy = accuracy_score(y_test, y_test_pred)\n",
        "\n",
        "# Print results\n",
        "print(f\"\\n Training Accuracy: {train_accuracy * 100:.2f}%\")\n",
        "print(f\"Testing Accuracy: {test_accuracy * 100:.2f}%\")"
      ],
      "metadata": {
        "id": "6RZcj65R-Xks"
      },
      "execution_count": null,
      "outputs": []
    },
    {
      "cell_type": "code",
      "source": [
        "print(\"\\n Classification Report on Test Set:\\n\", classification_report(y_test, y_test_pred))y_pred = classifier.predict(X_test)\n",
        "accuracy = accuracy_score(y_test, y_pred)\n",
        "# results\n",
        "print(f\"\\n SBERT Classifier Accuracy (Optimized): {accuracy * 100:.2f}%\")\n",
        "print(\"\\n Classification Report:\\n\", classification_report(y_test, y_pred))"
      ],
      "metadata": {
        "id": "z2DQY0OvF0c8"
      },
      "execution_count": null,
      "outputs": []
    },
    {
      "cell_type": "markdown",
      "source": [
        "Example Usage"
      ],
      "metadata": {
        "id": "MQwB-r7K-gPw"
      }
    },
    {
      "cell_type": "code",
      "source": [
        "sample_premise = \"The student submitted the same assignment as another student.\"\n",
        "sample_hypothesis = \"The assignment submitted was identical to a peer's work.\"\n",
        "\n",
        "# Encode and prepare features\n",
        "p_embed = sbert_model.encode(sample_premise)\n",
        "h_embed = sbert_model.encode(sample_hypothesis)\n",
        "sample_feature = combine_features(p_embed, h_embed)\n",
        "sample_scaled = scaler.transform([sample_feature])\n",
        "\n",
        "# Predict\n",
        "sample_pred = classifier.predict(sample_scaled)[0]\n",
        "print(f\"\\n Sample Prediction (1 = Plagiarized, 0 = Not): {sample_pred}\")"
      ],
      "metadata": {
        "id": "eWXImzlh-nLW"
      },
      "execution_count": null,
      "outputs": []
    }
  ]
}